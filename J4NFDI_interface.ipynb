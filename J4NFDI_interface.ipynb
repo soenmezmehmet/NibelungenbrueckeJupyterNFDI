{
 "cells": [
  {
   "cell_type": "markdown",
   "metadata": {},
   "source": [
    "# Online Simulation-Based Digital Twin: Nibelungenbrücke\n",
    "\n",
    "This notebook presents an online simulation-based digital twin developed for the Nibelungenbrücke bridge. The system is managed by an orchestration layer that dynamically handles user inputs such as the type of physical model to analyze, the simulation time window, and spatial locations of interest. It supports both standard transient thermal simulations and simulations that incorporate uncertainty quantification (UQ), allowing users to assess not only predicted behavior but also confidence in those predictions. \n",
    "\n",
    "The simulations are powered by the FenicSXConcrete package and provide physics-based, real-time insights into the thermomechanical and structural deflection behavior of the bridge.\n"
   ]
  },
  {
   "cell_type": "markdown",
   "metadata": {},
   "source": [
    "> ⚠️ **Please run the following cell once before using the notebook to install all required packages in your JupyterHub environment.**  "
   ]
  },
  {
   "cell_type": "code",
   "execution_count": 1,
   "metadata": {},
   "outputs": [],
   "source": [
    "#import sys\n",
    "#!{sys.executable} -m pip install git+https://github.com/BAMresearch/FenicsXConcrete pint gmsh pytest jsonschema pandas pyproj tqdm pvlib meshio chaospy==3.3.9\n",
    "\n",
    "\n",
    "#!{sys.executable} -m pip install git+https://github.com/BAMresearch/FenicsXConcrete@my-grf git+https://github.com/BAMresearch/probeye chaospy==3.3.9 doit==0.36.0 pint==0.24.4 jinja2==3.1.6 pdf2image==1.17.0 pint==0.24.4 pytest==8.4.0 jsonschema==4.24.0 pandas==2.3.0 pyproj tqdm pvlib==0.13.0 meshio python-gmsh==4.12.2 git"
   ]
  },
  {
   "cell_type": "markdown",
   "metadata": {},
   "source": [
    "This code snippet adjusts the current working directory and updates the system path to ensure proper resolution of local project modules."
   ]
  },
  {
   "cell_type": "code",
   "execution_count": 2,
   "metadata": {},
   "outputs": [],
   "source": [
    "import os\n",
    "import sys\n",
    "\n",
    "original_cwd = os.getcwd()\n",
    "root_dir = os.getcwd()\n",
    "orchestrator_dir = os.path.join(root_dir, 'nibelungenbruecke', 'scripts', 'digital_twin_orchestrator')\n",
    "os.chdir(orchestrator_dir)\n",
    "sys.path.insert(0, root_dir)\n",
    "\n",
    "from nibelungenbruecke.scripts.digital_twin_orchestrator.orchestrator import Orchestrator"
   ]
  },
  {
   "cell_type": "markdown",
   "metadata": {},
   "source": [
    "### Definition of input parameters\n",
    "\n",
    "This dictionary defines the configuration for running a digital twin simulation, including model selection, temporal settings, sensor definitions, and simulation options."
   ]
  },
  {
   "cell_type": "code",
   "execution_count": 4,
   "metadata": {},
   "outputs": [],
   "source": [
    "simulation_parameters = {\n",
    "    'simulation_name': 'TestSimulation',\n",
    "    'model': 'TransientThermal_1',\n",
    "    'start_time': '2023-08-11T08:00:00Z',\n",
    "    'end_time': '2023-09-11T16:10:00Z',\n",
    "    'time_step': '10min',\n",
    "    'virtual_sensor_positions': [\n",
    "        {'x': 0.0, 'y': 0.0, 'z': 0.0, 'name': 'Sensor1'},\n",
    "        {'x': 1.0, 'y': 0.0, 'z': 0.0, 'name': 'Sensor2'},\n",
    "        {'x': 1.78, 'y': 0.0, 'z': 26.91, 'name': 'Sensor3'},\n",
    "        {'x': -1.83, 'y': 0.0, 'z': 0.0, 'name': 'Sensor4'}\n",
    "    ],\n",
    "    'plot_pv': True,\n",
    "    'full_field_results': True, # Set to True if you want full field results, the simulation will take longer and the results will be larger.\n",
    "    'uncertainty_quantification': False, # Set to True if you want uncertainty quantification, the simulation will take longer and the results will be larger.\n",
    "}"
   ]
  },
  {
   "cell_type": "markdown",
   "metadata": {},
   "source": [
    "The `Orchestrator` class serves as the central controller responsible for managing the full digital twin simulation workflow. It orchestrates the configuration, model selection, simulation execution, and optional post-processing steps based on the input parameters defined earlier.\n",
    "\n",
    "The following line initializes an instance of the `Orchestrator` with the user-defined configuration:"
   ]
  },
  {
   "cell_type": "code",
   "execution_count": 5,
   "metadata": {},
   "outputs": [],
   "source": [
    "orchestrator = Orchestrator(simulation_parameters)"
   ]
  },
  {
   "cell_type": "markdown",
   "metadata": {},
   "source": [
    "Provide your key to MKP's API to registers it with the Orchestrator instance:"
   ]
  },
  {
   "cell_type": "code",
   "execution_count": 6,
   "metadata": {},
   "outputs": [],
   "source": [
    "key=input(\"\\nEnter the code to connect API: \").strip()\n",
    "#key = \"\"\n",
    "orchestrator.set_api_key(key)"
   ]
  },
  {
   "cell_type": "markdown",
   "metadata": {},
   "source": [
    "Before proceeding with the simulation, the `load()` method verifies whether the coordinates of the virtual sensors lie within the boundaries of the mesh domain."
   ]
  },
  {
   "cell_type": "code",
   "execution_count": 7,
   "metadata": {},
   "outputs": [],
   "source": [
    "#orchestrator.load(simulation_parameters)"
   ]
  },
  {
   "cell_type": "markdown",
   "metadata": {},
   "source": [
    "The simulation is executed using:"
   ]
  },
  {
   "cell_type": "code",
   "execution_count": 8,
   "metadata": {},
   "outputs": [
    {
     "name": "stdout",
     "output_type": "stream",
     "text": [
      "\n",
      "Warning: The file '../../../use_cases/nibelungenbruecke_demonstrator_self_weight_fenicsxconcrete/output/sensors/transientthermal.json' was not found and will be created during the process.\n",
      "Info    : Reading '../../../use_cases/nibelungenbruecke_demonstrator_self_weight_fenicsxconcrete/input/models/mesh_3d 1.msh'...\n",
      "Info    : 2443 entities\n",
      "Info    : 2197 nodes\n",
      "Info    : 12920 elements\n",
      "Info    : Done reading '../../../use_cases/nibelungenbruecke_demonstrator_self_weight_fenicsxconcrete/input/models/mesh_3d 1.msh'\n",
      "New model 'thermal_model' saved successfully.\n",
      "Error: The file TransientThermal_1 was not found!\n",
      "Info    : Reading '../../../use_cases/nibelungenbruecke_demonstrator_self_weight_fenicsxconcrete/input/models/mesh_3d 1.msh'...\n",
      "Info    : 2443 entities\n",
      "Info    : 2197 nodes\n",
      "Info    : 12920 elements\n",
      "Info    : Done reading '../../../use_cases/nibelungenbruecke_demonstrator_self_weight_fenicsxconcrete/input/models/mesh_3d 1.msh'\n"
     ]
    }
   ],
   "source": [
    "\n",
    "results = orchestrator.run()"
   ]
  },
  {
   "cell_type": "markdown",
   "metadata": {},
   "source": [
    "### Results\n",
    "The result at the sensors defined in simulation_parameters are plotted below."
   ]
  },
  {
   "cell_type": "code",
   "execution_count": null,
   "metadata": {},
   "outputs": [],
   "source": [
    "orchestrator.plot_virtual_sensor_data()"
   ]
  },
  {
   "cell_type": "markdown",
   "metadata": {},
   "source": [
    "Plot comparison between model response and real sensors when available:"
   ]
  },
  {
   "cell_type": "code",
   "execution_count": null,
   "metadata": {},
   "outputs": [],
   "source": [
    "orchestrator.plot_real_sensor_vs_virtual_sensor()"
   ]
  },
  {
   "cell_type": "markdown",
   "metadata": {},
   "source": [
    "## Additional results (only if run)"
   ]
  },
  {
   "cell_type": "markdown",
   "metadata": {},
   "source": [
    "### Full-field response (3D)"
   ]
  },
  {
   "cell_type": "markdown",
   "metadata": {},
   "source": [
    "The full-field simulation results can be reached with the following method.<br>\n",
    "\n",
    "! Interactive visualization within the interface is not yet supported but will be introduced soon. Meanwhile files can be downloaded from the specified paths printed below."
   ]
  },
  {
   "cell_type": "code",
   "execution_count": null,
   "metadata": {},
   "outputs": [],
   "source": [
    "orchestrator.plot_full_field_response(simulation_parameters[\"full_field_results\"])"
   ]
  },
  {
   "cell_type": "markdown",
   "metadata": {},
   "source": [
    "### Thermal Model Uncertainty Quantification\n",
    "\n",
    "Uncertainty quantification for the thermal model has been introduced. To enable this feature:  \n",
    "- Set the parameter `uncertainty_quantification` to `True`  \n",
    "- Ensure the parameter `plot_pv` is set to `False`  \n",
    "\n",
    "This configuration activates the uncertainty analysis."
   ]
  },
  {
   "cell_type": "code",
   "execution_count": null,
   "metadata": {},
   "outputs": [],
   "source": [
    "simulation_parameters = {\n",
    "    'simulation_name': 'TestSimulation',\n",
    "    'model': 'TransientThermal_1',\n",
    "    'start_time': '2023-08-11T08:00:00Z',\n",
    "    'end_time': '2023-09-13T08:10:00Z',\n",
    "    'time_step': '10min',\n",
    "    'virtual_sensor_positions': [\n",
    "        {'x': 0.0, 'y': 0.0, 'z': 0.0, 'name': 'Sensor1'},\n",
    "        {'x': 1.0, 'y': 0.0, 'z': 0.0, 'name': 'Sensor2'},\n",
    "        {'x': 1.78, 'y': 0.0, 'z': 26.91, 'name': 'Sensor3'},\n",
    "        {'x': -1.83, 'y': 0.0, 'z': 0.0, 'name': 'Sensor4'}\n",
    "    ],\n",
    "    'plot_pv': False,\n",
    "    'full_field_results': True,\n",
    "    'uncertainty_quantification': True,\n",
    "}"
   ]
  },
  {
   "cell_type": "markdown",
   "metadata": {},
   "source": [
    "Verify that all given virtual sensors fall within the mesh domain and then run the model."
   ]
  },
  {
   "cell_type": "code",
   "execution_count": null,
   "metadata": {},
   "outputs": [],
   "source": [
    "#orchestrator.load(simulation_parameters)\n",
    "orchestrator.run(simulation_parameters)"
   ]
  },
  {
   "cell_type": "code",
   "execution_count": null,
   "metadata": {},
   "outputs": [],
   "source": [
    "orchestrator.plot_virtual_sensor_data()"
   ]
  },
  {
   "cell_type": "code",
   "execution_count": null,
   "metadata": {},
   "outputs": [],
   "source": [
    "orchestrator.plot_real_sensor_vs_virtual_sensor()"
   ]
  },
  {
   "cell_type": "code",
   "execution_count": null,
   "metadata": {},
   "outputs": [],
   "source": [
    "orchestrator.plot_full_field_response(simulation_parameters[\"full_field_results\"])"
   ]
  },
  {
   "cell_type": "code",
   "execution_count": null,
   "metadata": {},
   "outputs": [],
   "source": [
    "os.chdir(original_cwd)\n",
    "print(\"Working directory restored to:\", original_cwd)"
   ]
  }
 ],
 "metadata": {
  "kernelspec": {
   "display_name": "demo",
   "language": "python",
   "name": "python3"
  },
  "language_info": {
   "codemirror_mode": {
    "name": "ipython",
    "version": 3
   },
   "file_extension": ".py",
   "mimetype": "text/x-python",
   "name": "python",
   "nbconvert_exporter": "python",
   "pygments_lexer": "ipython3",
   "version": "3.10.5"
  },
  "orig_nbformat": 4
 },
 "nbformat": 4,
 "nbformat_minor": 2
}
