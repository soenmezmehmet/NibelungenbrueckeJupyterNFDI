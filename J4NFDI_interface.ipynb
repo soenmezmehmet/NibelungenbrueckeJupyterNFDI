{
 "cells": [
  {
   "cell_type": "markdown",
   "metadata": {},
   "source": [
    "## Online Simulation-Based Digital Twin: Nibelungenbrücke\n",
    "\n",
    "This notebook introduces an online simulation-based digital twin developed for the Nibelungenbrücke bridge. The orchestration system is designed to interact dynamically with the user by gathering key inputs; such as time, physical parameters, and spatial positions to perform real-time simulations of the bridge structure.\n",
    "\n",
    "The simulations are powered by the FenicSXConcrete package and support both thermomechanical and structural deflection analyses. This framework enables physics-based modeling and continuous digital monitoring of the bridge's behavior."
   ]
  },
  {
   "cell_type": "markdown",
   "metadata": {},
   "source": [
    "\n",
    "\n",
    "\n",
    "Please run the code below once to install the packages!"
   ]
  },
  {
   "cell_type": "code",
   "execution_count": null,
   "metadata": {},
   "outputs": [],
   "source": [
    "#import sys\n",
    "#!{sys.executable} -m pip install git+https://github.com/BAMresearch/FenicsXConcrete pint gmsh pytest jsonschema pandas pyproj tqdm pvlib"
   ]
  },
  {
   "cell_type": "markdown",
   "metadata": {},
   "source": [
    "Following code snippet adjusts the current working directory and modifies the system path to ensure proper module resolution."
   ]
  },
  {
   "cell_type": "code",
   "execution_count": null,
   "metadata": {},
   "outputs": [],
   "source": [
    "import os\n",
    "import sys\n",
    "\n",
    "original_cwd = os.getcwd()\n",
    "root_dir = os.getcwd()\n",
    "orchestrator_dir = os.path.join(root_dir, 'nibelungenbruecke', 'scripts', 'digital_twin_orchestrator')\n",
    "os.chdir(orchestrator_dir)\n",
    "sys.path.insert(0, root_dir)\n",
    "\n",
    "from nibelungenbruecke.scripts.digital_twin_orchestrator.orchestrator import Orchestrator"
   ]
  },
  {
   "cell_type": "code",
   "execution_count": null,
   "metadata": {},
   "outputs": [],
   "source": [
    "import importlib\n",
    "import nibelungenbruecke.scripts.digital_twin_orchestrator.orchestrator as orch\n",
    "\n",
    "importlib.reload(orch)\n"
   ]
  },
  {
   "cell_type": "markdown",
   "metadata": {},
   "source": [
    "### Definition of input parameters\n",
    "\n",
    "This dictionary defines the configuration for running a digital twin simulation, including model selection, temporal settings, sensor definitions, and simulation options."
   ]
  },
  {
   "cell_type": "code",
   "execution_count": null,
   "metadata": {},
   "outputs": [],
   "source": [
    "simulation_parameters = {\n",
    "    'simulation_name': 'TestSimulation',\n",
    "    'model': 'TransientThermal_1',\n",
    "    'start_time': '2023-08-11T08:00:00Z',\n",
    "    'end_time': '2023-08-11T16:10:00Z',\n",
    "    'time_step': '10min',\n",
    "    'virtual_sensor_positions': [\n",
    "        {'x': 0.0, 'y': 0.0, 'z': 0.0, 'name': 'Sensor1'},\n",
    "        {'x': 1.0, 'y': 0.0, 'z': 0.0, 'name': 'Sensor2'},\n",
    "        {'x': 1.78, 'y': 0.0, 'z': 26.91, 'name': 'Sensor3'},\n",
    "        {'x': -1.83, 'y': 0.0, 'z': 0.0, 'name': 'Sensor4'}\n",
    "    ],\n",
    "    'plot_pv': True,\n",
    "    'full_field_results': True, # Set to True if you want full field results, the simulation will take longer and the results will be larger.\n",
    "    'uncertainty_quantification': False, # Set to True if you want uncertainty quantification, the simulation will take longer and the results will be larger.\n",
    "}"
   ]
  },
  {
   "cell_type": "markdown",
   "metadata": {},
   "source": [
    "The Orchestrator class acts as the central controller for managing the entire digital twin simulation workflow. It handles configuration, setup, execution, and post-processing of simulations based on the provided input parameters.<br>\n",
    "<br>\n",
    "Orchestrator initialization with respect to the given parameters:"
   ]
  },
  {
   "cell_type": "code",
   "execution_count": null,
   "metadata": {},
   "outputs": [],
   "source": [
    "orchestrator = orch.Orchestrator(simulation_parameters)"
   ]
  },
  {
   "cell_type": "markdown",
   "metadata": {},
   "source": [
    "Provide your key to MKP's API to registers it with the Orchestrator instance for secure communication with the backend services."
   ]
  },
  {
   "cell_type": "code",
   "execution_count": null,
   "metadata": {},
   "outputs": [],
   "source": [
    "key=input(\"\\nEnter the code to connect API: \").strip()\n",
    "#key = \"\"\n",
    "orchestrator.set_api_key(key)"
   ]
  },
  {
   "cell_type": "markdown",
   "metadata": {},
   "source": [
    "Before proceeding with the simulation, the `load()` method verifies whether the coordinates of the virtual sensors lie within the boundaries of the mesh domain."
   ]
  },
  {
   "cell_type": "code",
   "execution_count": null,
   "metadata": {},
   "outputs": [],
   "source": [
    "#orchestrator.load(simulation_parameters)"
   ]
  },
  {
   "cell_type": "markdown",
   "metadata": {},
   "source": [
    "The simulation is executed using:"
   ]
  },
  {
   "cell_type": "code",
   "execution_count": null,
   "metadata": {},
   "outputs": [],
   "source": [
    "\n",
    "results = orchestrator.run()"
   ]
  },
  {
   "cell_type": "markdown",
   "metadata": {},
   "source": [
    "### Results\n",
    "The result at the sensors defined in simulation_parameters are plotted below."
   ]
  },
  {
   "cell_type": "code",
   "execution_count": null,
   "metadata": {},
   "outputs": [],
   "source": [
    "orchestrator.plot_virtual_sensor_data()"
   ]
  },
  {
   "cell_type": "markdown",
   "metadata": {},
   "source": [
    "Plot comparison between model response and real sensors when available:"
   ]
  },
  {
   "cell_type": "code",
   "execution_count": null,
   "metadata": {},
   "outputs": [],
   "source": [
    "orchestrator.plot_real_sensor_vs_virtual_sensor()"
   ]
  },
  {
   "cell_type": "markdown",
   "metadata": {},
   "source": [
    "## Additional results (only if run)"
   ]
  },
  {
   "cell_type": "markdown",
   "metadata": {},
   "source": [
    "### Full-field response (3D)"
   ]
  },
  {
   "cell_type": "markdown",
   "metadata": {},
   "source": [
    "The full-field simulation results can be reached with the following method.<br>\n",
    "\n",
    "! Interactive visualization within the interface is not yet supported but will be introduced soon. Meanwhile files can be downloaded from the specified paths printed below."
   ]
  },
  {
   "cell_type": "code",
   "execution_count": null,
   "metadata": {},
   "outputs": [],
   "source": [
    "orchestrator.plot_full_field_response(simulation_parameters[\"full_field_results\"])"
   ]
  },
  {
   "cell_type": "markdown",
   "metadata": {},
   "source": [
    "### Thermal Model Uncertainty Quantification\n",
    "\n",
    "Uncertainty quantification for the thermal model has been introduced. To enable this feature:  \n",
    "- Set the parameter `uncertainty_quantification` to `True`  \n",
    "- Ensure the parameter `plot_pv` is set to `False`  \n",
    "\n",
    "This configuration activates the uncertainty analysis."
   ]
  },
  {
   "cell_type": "code",
   "execution_count": null,
   "metadata": {},
   "outputs": [],
   "source": [
    "simulation_parameters = {\n",
    "    'simulation_name': 'TestSimulation',\n",
    "    'model': 'TransientThermal_1',\n",
    "    'start_time': '2023-08-11T08:00:00Z',\n",
    "    'end_time': '2023-08-13T08:10:00Z',\n",
    "    'time_step': '10min',\n",
    "    'virtual_sensor_positions': [\n",
    "        {'x': 0.0, 'y': 0.0, 'z': 0.0, 'name': 'Sensor1'},\n",
    "        {'x': 1.0, 'y': 0.0, 'z': 0.0, 'name': 'Sensor2'},\n",
    "        {'x': 1.78, 'y': 0.0, 'z': 26.91, 'name': 'Sensor3'},\n",
    "        {'x': -1.83, 'y': 0.0, 'z': 0.0, 'name': 'Sensor4'}\n",
    "    ],\n",
    "    'plot_pv': False,\n",
    "    'full_field_results': True,\n",
    "    'uncertainty_quantification': True,\n",
    "}"
   ]
  },
  {
   "cell_type": "markdown",
   "metadata": {},
   "source": [
    "Verify that all given virtual sensors fall within the mesh domain and then run the model."
   ]
  },
  {
   "cell_type": "code",
   "execution_count": null,
   "metadata": {},
   "outputs": [],
   "source": [
    "#orchestrator.load(simulation_parameters)\n",
    "orchestrator.run(simulation_parameters)"
   ]
  },
  {
   "cell_type": "code",
   "execution_count": null,
   "metadata": {},
   "outputs": [],
   "source": [
    "orchestrator.plot_virtual_sensor_data()"
   ]
  },
  {
   "cell_type": "code",
   "execution_count": null,
   "metadata": {},
   "outputs": [],
   "source": [
    "orchestrator.plot_real_sensor_vs_virtual_sensor()"
   ]
  },
  {
   "cell_type": "code",
   "execution_count": null,
   "metadata": {},
   "outputs": [],
   "source": [
    "orchestrator.plot_full_field_response(simulation_parameters[\"full_field_results\"])"
   ]
  },
  {
   "cell_type": "code",
   "execution_count": null,
   "metadata": {},
   "outputs": [],
   "source": [
    "os.chdir(original_cwd)\n",
    "print(\"Working directory restored to:\", original_cwd)"
   ]
  }
 ],
 "metadata": {
  "kernelspec": {
   "display_name": "demo",
   "language": "python",
   "name": "python3"
  },
  "language_info": {
   "codemirror_mode": {
    "name": "ipython",
    "version": 3
   },
   "file_extension": ".py",
   "mimetype": "text/x-python",
   "name": "python",
   "nbconvert_exporter": "python",
   "pygments_lexer": "ipython3",
   "version": "3.10.5"
  },
  "orig_nbformat": 4
 },
 "nbformat": 4,
 "nbformat_minor": 2
}
