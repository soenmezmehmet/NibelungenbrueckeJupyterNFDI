{
 "cells": [
  {
   "cell_type": "code",
   "execution_count": null,
   "metadata": {},
   "outputs": [],
   "source": [
    "from nibelungenbruecke.scripts.digital_twin_orchestrator.orchestrator import Orchestrator"
   ]
  },
  {
   "cell_type": "code",
   "execution_count": null,
   "metadata": {},
   "outputs": [],
   "source": [
    "parameters_path = \"../../../use_cases/nibelungenbruecke_demonstrator_self_weight_fenicsxconcrete/input/settings/digital_twin_default_parameters.json\""
   ]
  },
  {
   "cell_type": "code",
   "execution_count": null,
   "metadata": {},
   "outputs": [],
   "source": [
    "\n",
    "import random\n",
    "\n",
    "def generate_random_rho(params: dict={}, parameters: str=\"rho\"):\n",
    "    \"\"\"\n",
    "    Generates a random 'rho' value for vehicles passing through the bridge \n",
    "    between 5000 and 10000,\n",
    "    \"\"\"\n",
    "    if parameters == \"rho\":\n",
    "        #random_value = random.randint(110 // 5, 120 // 5) * 100\n",
    "        random_value = random.randint(90 // 5, 160 // 5) * 100\n",
    "    elif parameters == \"E\":\n",
    "        random_value = random.randint(100 // 5, 225 // 5) * 10**10\n",
    "    else:\n",
    "        raise KeyError(\"unexpected parameters! Please use a check the parameters!\")\n",
    "    \n",
    "    params[parameters] = random_value\n",
    "    return params"
   ]
  },
  {
   "cell_type": "code",
   "execution_count": null,
   "metadata": {},
   "outputs": [],
   "source": [
    "model_to_run = input(\"Please enter one of the following model names => TransientThermal_1, , Displacement_1, Displacement_2: \")\n",
    "input_value=generate_random_rho()\n",
    "print(input_value)"
   ]
  },
  {
   "cell_type": "code",
   "execution_count": null,
   "metadata": {},
   "outputs": [],
   "source": [
    "orchestrator = Orchestrator(model_to_run, input_value)"
   ]
  }
 ],
 "metadata": {
  "kernelspec": {
   "display_name": "demo",
   "language": "python",
   "name": "python3"
  },
  "language_info": {
   "codemirror_mode": {
    "name": "ipython",
    "version": 3
   },
   "file_extension": ".py",
   "mimetype": "text/x-python",
   "name": "python",
   "nbconvert_exporter": "python",
   "pygments_lexer": "ipython3",
   "version": "3.10.13"
  },
  "orig_nbformat": 4
 },
 "nbformat": 4,
 "nbformat_minor": 2
}
