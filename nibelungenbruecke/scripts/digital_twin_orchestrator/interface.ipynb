{
 "cells": [
  {
   "cell_type": "code",
   "execution_count": 1,
   "metadata": {},
   "outputs": [],
   "source": [
    "# !pip install git+https://github.com/BAMresearch/FenicsXConcrete gmsh pytest\n",
    "# import sys\n",
    "# !{sys.executable} -m pip install git+https://github.com/BAMresearch/FenicsXConcrete pint gmsh pytest\n",
    "import sys\n",
    "print(sys.executable)"
   ]
  },
  {
   "cell_type": "code",
   "execution_count": 2,
   "metadata": {},
   "outputs": [],
   "source": [
    "from interface_test_DT import DigitalTwinInterface\n",
    "import sys\n",
    "print(sys.executable)"
   ]
  },
  {
   "cell_type": "code",
   "execution_count": 3,
   "metadata": {},
   "outputs": [],
   "source": [
    "# path = 'use_cases/nibelungenbruecke_demonstrator_self_weight_fenicsxconcrete/input/settings/digital_twin_default_parameters.json'\n",
    "path = '../../../use_cases/nibelungenbruecke_demonstrator_self_weight_fenicsxconcrete/input/settings/digital_twin_default_parameters.json'\n"
   ]
  },
  {
   "cell_type": "code",
   "execution_count": 4,
   "metadata": {},
   "outputs": [],
   "source": [
    "dt = DigitalTwinInterface(path)"
   ]
  },
  {
   "cell_type": "code",
   "execution_count": 5,
   "metadata": {},
   "outputs": [
    {
     "name": "stdout",
     "output_type": "stream",
     "text": [
      "\n",
      "Current model: TransientThermal_1\n",
      "\n",
      "Generated input: {'E': 400000000000}\n",
      "\n",
      "Warning: The file 'use_cases/nibelungenbruecke_demonstrator_self_weight_fenicsxconcrete/output/sensors/transientthermal.json' was not found and will be created during the process.\n",
      "Module imported: <module 'thermal_model' from '/home/msoenmez/Desktop/NibelungenbrueckeDemonstrator/nibelungenbruecke/scripts/digital_twin_orchestrator/thermal_model.py'>\n",
      "Info    : Reading '../../../use_cases/nibelungenbruecke_demonstrator_self_weight_fenicsxconcrete/input/models/mesh_3d 1.msh'...\n",
      "Info    : 2443 entities\n",
      "Info    : 2197 nodes\n",
      "Info    : 12920 elements\n",
      "Info    : Done reading '../../../use_cases/nibelungenbruecke_demonstrator_self_weight_fenicsxconcrete/input/models/mesh_3d 1.msh'\n",
      "An error occurred while saving the model: [Errno 2] No such file or directory: 'use_cases/nibelungenbruecke_demonstrator_self_weight_fenicsxconcrete/output/sensors/transientthermal.json'\n",
      "Info    : Reading '../../../use_cases/nibelungenbruecke_demonstrator_self_weight_fenicsxconcrete/input/models/mesh_3d 1.msh'...\n",
      "Info    : 2443 entities\n",
      "Info    : 2197 nodes\n",
      "Info    : 12920 elements\n",
      "Info    : Done reading '../../../use_cases/nibelungenbruecke_demonstrator_self_weight_fenicsxconcrete/input/models/mesh_3d 1.msh'\n",
      "Connecting to sensor database...\n",
      "Using current date: 2025-06-26\n",
      "Time window:\n",
      "  Start: 2025-06-19\n",
      "  End:   2025-06-24\n",
      "Error: Anfrage fehlgeschlagen mit Statuscode 401: \n",
      "\n",
      "Current model: TransientThermal_1\n",
      "Exiting interface.\n"
     ]
    }
   ],
   "source": [
    "dt.run_model()"
   ]
  }
 ],
 "metadata": {
  "kernelspec": {
   "display_name": "demo",
   "language": "python",
   "name": "python3"
  },
  "language_info": {
   "codemirror_mode": {
    "name": "ipython",
    "version": 3
   },
   "file_extension": ".py",
   "mimetype": "text/x-python",
   "name": "python",
   "nbconvert_exporter": "python",
   "pygments_lexer": "ipython3",
   "version": "3.10.5"
  },
  "orig_nbformat": 4
 },
 "nbformat": 4,
 "nbformat_minor": 2
}
