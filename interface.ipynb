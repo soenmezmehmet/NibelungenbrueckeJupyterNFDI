{
 "cells": [
  {
   "cell_type": "code",
   "execution_count": 4,
   "metadata": {},
   "outputs": [],
   "source": [
    "import random\n",
    "from nibelungenbruecke.scripts.digital_twin_orchestrator.interface_test_DT import DigitalTwinInterface\n",
    "import os"
   ]
  },
  {
   "cell_type": "code",
   "execution_count": 5,
   "metadata": {},
   "outputs": [],
   "source": [
    "path = 'use_cases/nibelungenbruecke_demonstrator_self_weight_fenicsxconcrete/input/settings/digital_twin_default_parameters.json'\n",
    "# path = '../../../use_cases/nibelungenbruecke_demonstrator_self_weight_fenicsxconcrete/input/settings/digital_twin_default_parameters.json'\n",
    "    "
   ]
  },
  {
   "cell_type": "code",
   "execution_count": 6,
   "metadata": {},
   "outputs": [],
   "source": [
    "dt = DigitalTwinInterface(path)\n"
   ]
  },
  {
   "cell_type": "code",
   "execution_count": 7,
   "metadata": {},
   "outputs": [
    {
     "name": "stdout",
     "output_type": "stream",
     "text": [
      "<nibelungenbruecke.scripts.digital_twin_orchestrator.interface_test_DT.DigitalTwinInterface object at 0x7893c02ea890>\n"
     ]
    }
   ],
   "source": [
    "print(dt)"
   ]
  },
  {
   "cell_type": "code",
   "execution_count": 8,
   "metadata": {},
   "outputs": [
    {
     "name": "stdout",
     "output_type": "stream",
     "text": [
      "\n",
      "Current model: TransientThermal_1\n",
      "Generated input: {'E': 250000000000}\n",
      "/home/msoenmez/Desktop/NibelungenbrueckeDemonstrator/nibelungenbruecke/scripts/digital_twin_orchestrator\n",
      "Changed directory to: /home/msoenmez/Desktop/NibelungenbrueckeDemonstrator/nibelungenbruecke/scripts/digital_twin_orchestrator\n",
      "Module imported (after changing relative path): <module 'thermal_model' from '/home/msoenmez/Desktop/NibelungenbrueckeDemonstrator/nibelungenbruecke/scripts/digital_twin_orchestrator/thermal_model.py'>\n",
      "Info    : Reading '../../../use_cases/nibelungenbruecke_demonstrator_self_weight_fenicsxconcrete/input/models/mesh_3d 1.msh'...\n",
      "Info    : 2443 entities\n",
      "Info    : 2197 nodes\n",
      "Info    : 12920 elements\n",
      "Info    : Done reading '../../../use_cases/nibelungenbruecke_demonstrator_self_weight_fenicsxconcrete/input/models/mesh_3d 1.msh'\n",
      "\n",
      "Prediction: Same model with the same parameters!!\n",
      "Run complete.\n",
      "Result: None\n",
      "\n",
      "Current model: TransientThermal_1\n",
      "Generated input: {'rho': 1900}\n",
      "\n",
      "Prediction: Same model with the same parameters!!\n",
      "Run complete.\n",
      "Result: None\n",
      "\n",
      "Current model: TransientThermal_1\n",
      "Generated input: {'E': 220000000000}\n",
      "An error occurred while saving the model: [Errno 2] No such file or directory: 'use_cases/nibelungenbruecke_demonstrator_self_weight_fenicsxconcrete/output/sensors/transientthermal.json'\n",
      "Info    : Reading '../../../use_cases/nibelungenbruecke_demonstrator_self_weight_fenicsxconcrete/input/models/mesh_3d 1.msh'...\n",
      "Info    : 2443 entities\n",
      "Info    : 2197 nodes\n",
      "Info    : 12920 elements\n",
      "Info    : Done reading '../../../use_cases/nibelungenbruecke_demonstrator_self_weight_fenicsxconcrete/input/models/mesh_3d 1.msh'\n"
     ]
    }
   ],
   "source": [
    "dt.run_model()"
   ]
  }
 ],
 "metadata": {
  "kernelspec": {
   "display_name": "demo",
   "language": "python",
   "name": "python3"
  },
  "language_info": {
   "codemirror_mode": {
    "name": "ipython",
    "version": 3
   },
   "file_extension": ".py",
   "mimetype": "text/x-python",
   "name": "python",
   "nbconvert_exporter": "python",
   "pygments_lexer": "ipython3",
   "version": "3.10.5"
  },
  "orig_nbformat": 4
 },
 "nbformat": 4,
 "nbformat_minor": 2
}
