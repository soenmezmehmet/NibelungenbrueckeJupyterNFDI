{
 "cells": [
  {
   "cell_type": "markdown",
   "metadata": {},
   "source": []
  },
  {
   "cell_type": "code",
   "execution_count": 1,
   "metadata": {},
   "outputs": [],
   "source": [
    "#!pip install ipywidgets\n",
    "#import ipywidgets as widgets\n",
    "#from IPython.display import display, clear_output\n",
    "#from digital_twin_ui import launch_ui\n",
    "\n",
    "#launch_ui(\"use_cases/nibelungenbruecke_demonstrator_self_weight_fenicsxconcrete/input/settings/digital_twin_default_parameters.json\")\n"
   ]
  },
  {
   "cell_type": "code",
   "execution_count": 2,
   "metadata": {},
   "outputs": [],
   "source": [
    "#!pip install git+https://github.com/BAMresearch/FenicsXConcrete pint gmsh\n",
    "\n"
   ]
  },
  {
   "cell_type": "code",
   "execution_count": 3,
   "metadata": {},
   "outputs": [],
   "source": [
    "import random\n",
    "from nibelungenbruecke.scripts.digital_twin_orchestrator.interface_test_DT import DigitalTwinInterface\n",
    "import os\n",
    "\n"
   ]
  },
  {
   "cell_type": "code",
   "execution_count": null,
   "metadata": {},
   "outputs": [],
   "source": []
  },
  {
   "cell_type": "code",
   "execution_count": 4,
   "metadata": {},
   "outputs": [],
   "source": [
    "path = 'use_cases/nibelungenbruecke_demonstrator_self_weight_fenicsxconcrete/input/settings/digital_twin_default_parameters.json'\n",
    "# path = '../../../use_cases/nibelungenbruecke_demonstrator_self_weight_fenicsxconcrete/input/settings/digital_twin_default_parameters.json'\n",
    "    "
   ]
  },
  {
   "cell_type": "code",
   "execution_count": 5,
   "metadata": {},
   "outputs": [
    {
     "ename": "FileNotFoundError",
     "evalue": "Error: The file ../../../use_cases/nibelungenbruecke_demonstrator_self_weight_fenicsxconcrete/input/settings/digital_twin_default_parameters.json was not found!",
     "output_type": "error",
     "traceback": [
      "\u001b[0;31m---------------------------------------------------------------------------\u001b[0m",
      "\u001b[0;31mFileNotFoundError\u001b[0m                         Traceback (most recent call last)",
      "File \u001b[0;32m~/Desktop/NibelungenbrueckeDemonstrator/nibelungenbruecke/scripts/digital_twin_orchestrator/digital_twin.py:55\u001b[0m, in \u001b[0;36mDigitalTwin._extract_model_parameters\u001b[0;34m(self, path)\u001b[0m\n\u001b[1;32m     54\u001b[0m \u001b[39mtry\u001b[39;00m:\n\u001b[0;32m---> 55\u001b[0m     \u001b[39mwith\u001b[39;00m \u001b[39mopen\u001b[39;49m(path, \u001b[39m'\u001b[39;49m\u001b[39mr\u001b[39;49m\u001b[39m'\u001b[39;49m) \u001b[39mas\u001b[39;00m file:\n\u001b[1;32m     56\u001b[0m         \u001b[39mreturn\u001b[39;00m json\u001b[39m.\u001b[39mload(file)\n",
      "\u001b[0;31mFileNotFoundError\u001b[0m: [Errno 2] No such file or directory: '../../../use_cases/nibelungenbruecke_demonstrator_self_weight_fenicsxconcrete/input/settings/digital_twin_default_parameters.json'",
      "\nDuring handling of the above exception, another exception occurred:\n",
      "\u001b[0;31mFileNotFoundError\u001b[0m                         Traceback (most recent call last)",
      "\u001b[1;32m/home/msoenmez/Desktop/NibelungenbrueckeDemonstrator/interface.ipynb Cell 7\u001b[0m line \u001b[0;36m1\n\u001b[0;32m----> <a href='vscode-notebook-cell:/home/msoenmez/Desktop/NibelungenbrueckeDemonstrator/interface.ipynb#W5sZmlsZQ%3D%3D?line=0'>1</a>\u001b[0m dt \u001b[39m=\u001b[39m DigitalTwinInterface(path)\n",
      "File \u001b[0;32m~/Desktop/NibelungenbrueckeDemonstrator/nibelungenbruecke/scripts/digital_twin_orchestrator/interface_test_DT.py:10\u001b[0m, in \u001b[0;36mDigitalTwinInterface.__init__\u001b[0;34m(self, path)\u001b[0m\n\u001b[1;32m      8\u001b[0m \u001b[39mself\u001b[39m\u001b[39m.\u001b[39mavailable_models \u001b[39m=\u001b[39m [\u001b[39m\"\u001b[39m\u001b[39mTransientThermal_1\u001b[39m\u001b[39m\"\u001b[39m, \u001b[39m\"\u001b[39m\u001b[39mDisplacement_1\u001b[39m\u001b[39m\"\u001b[39m, \u001b[39m\"\u001b[39m\u001b[39mDisplacement_2\u001b[39m\u001b[39m\"\u001b[39m]\n\u001b[1;32m      9\u001b[0m \u001b[39mself\u001b[39m\u001b[39m.\u001b[39mcurrent_model \u001b[39m=\u001b[39m \u001b[39mself\u001b[39m\u001b[39m.\u001b[39mavailable_models[\u001b[39m0\u001b[39m]\n\u001b[0;32m---> 10\u001b[0m \u001b[39mself\u001b[39m\u001b[39m.\u001b[39morchestrator \u001b[39m=\u001b[39m Orchestrator(\u001b[39mself\u001b[39;49m\u001b[39m.\u001b[39;49mparameters_path, \u001b[39mself\u001b[39;49m\u001b[39m.\u001b[39;49mcurrent_model)\n",
      "File \u001b[0;32m~/Desktop/NibelungenbrueckeDemonstrator/nibelungenbruecke/scripts/digital_twin_orchestrator/orchestrator.py:34\u001b[0m, in \u001b[0;36mOrchestrator.__init__\u001b[0;34m(self, model_parameters_path, model_to_run)\u001b[0m\n\u001b[1;32m     31\u001b[0m \u001b[39mself\u001b[39m\u001b[39m.\u001b[39mmodel_to_run \u001b[39m=\u001b[39m model_to_run\n\u001b[1;32m     32\u001b[0m \u001b[39mself\u001b[39m\u001b[39m.\u001b[39mmodel_parameters_path \u001b[39m=\u001b[39m model_parameters_path\n\u001b[0;32m---> 34\u001b[0m \u001b[39mself\u001b[39m\u001b[39m.\u001b[39mdigital_twin_model \u001b[39m=\u001b[39m \u001b[39mself\u001b[39;49m\u001b[39m.\u001b[39;49m_digital_twin_initializer()\n",
      "File \u001b[0;32m~/Desktop/NibelungenbrueckeDemonstrator/nibelungenbruecke/scripts/digital_twin_orchestrator/orchestrator.py:44\u001b[0m, in \u001b[0;36mOrchestrator._digital_twin_initializer\u001b[0;34m(self)\u001b[0m\n\u001b[1;32m     36\u001b[0m \u001b[39mdef\u001b[39;00m\u001b[39m \u001b[39m\u001b[39m_digital_twin_initializer\u001b[39m(\u001b[39mself\u001b[39m):\n\u001b[1;32m     37\u001b[0m \u001b[39m    \u001b[39m\u001b[39m\"\"\"\u001b[39;00m\n\u001b[1;32m     38\u001b[0m \u001b[39m   Initializes the digital twin model.\u001b[39;00m\n\u001b[1;32m     39\u001b[0m \u001b[39m   \u001b[39;00m\n\u001b[0;32m   (...)\u001b[0m\n\u001b[1;32m     42\u001b[0m \u001b[39m   \u001b[39;00m\n\u001b[1;32m     43\u001b[0m \u001b[39m    \"\"\"\u001b[39;00m\n\u001b[0;32m---> 44\u001b[0m     \u001b[39mreturn\u001b[39;00m DigitalTwin(\u001b[39mself\u001b[39;49m\u001b[39m.\u001b[39;49mmodel_parameters_path, \u001b[39mself\u001b[39;49m\u001b[39m.\u001b[39;49mmodel_to_run)\n",
      "File \u001b[0;32m~/Desktop/NibelungenbrueckeDemonstrator/nibelungenbruecke/scripts/digital_twin_orchestrator/digital_twin.py:38\u001b[0m, in \u001b[0;36mDigitalTwin.__init__\u001b[0;34m(self, model_parameters_path, model_to_run)\u001b[0m\n\u001b[1;32m     29\u001b[0m \u001b[39m \u001b[39m\u001b[39m\"\"\"\u001b[39;00m\n\u001b[1;32m     30\u001b[0m \u001b[39mInitializes the DigitalTwin instance.\u001b[39;00m\n\u001b[1;32m     31\u001b[0m \u001b[39m\u001b[39;00m\n\u001b[0;32m   (...)\u001b[0m\n\u001b[1;32m     35\u001b[0m \u001b[39m    \u001b[39;00m\n\u001b[1;32m     36\u001b[0m \u001b[39m\"\"\"\u001b[39;00m\n\u001b[1;32m     37\u001b[0m  \u001b[39mself\u001b[39m\u001b[39m.\u001b[39mmodel_to_run \u001b[39m=\u001b[39m model_to_run\n\u001b[0;32m---> 38\u001b[0m  \u001b[39mself\u001b[39m\u001b[39m.\u001b[39morchestrator_parameters \u001b[39m=\u001b[39m \u001b[39mself\u001b[39;49m\u001b[39m.\u001b[39;49m_extract_model_parameters(model_parameters_path)\n\u001b[1;32m     39\u001b[0m  \u001b[39mself\u001b[39m\u001b[39m.\u001b[39m_load_models()\n\u001b[1;32m     40\u001b[0m  \u001b[39mself\u001b[39m\u001b[39m.\u001b[39mcache_object \u001b[39m=\u001b[39m ObjectCache()\n",
      "File \u001b[0;32m~/Desktop/NibelungenbrueckeDemonstrator/nibelungenbruecke/scripts/digital_twin_orchestrator/digital_twin.py:58\u001b[0m, in \u001b[0;36mDigitalTwin._extract_model_parameters\u001b[0;34m(self, path)\u001b[0m\n\u001b[1;32m     56\u001b[0m         \u001b[39mreturn\u001b[39;00m json\u001b[39m.\u001b[39mload(file)\n\u001b[1;32m     57\u001b[0m \u001b[39mexcept\u001b[39;00m \u001b[39mFileNotFoundError\u001b[39;00m:\n\u001b[0;32m---> 58\u001b[0m     \u001b[39mraise\u001b[39;00m \u001b[39mFileNotFoundError\u001b[39;00m(\u001b[39mf\u001b[39m\u001b[39m\"\u001b[39m\u001b[39mError: The file \u001b[39m\u001b[39m{\u001b[39;00mpath\u001b[39m}\u001b[39;00m\u001b[39m was not found!\u001b[39m\u001b[39m\"\u001b[39m)\n\u001b[1;32m     59\u001b[0m \u001b[39mexcept\u001b[39;00m json\u001b[39m.\u001b[39mJSONDecodeError:\n\u001b[1;32m     60\u001b[0m     \u001b[39mraise\u001b[39;00m \u001b[39mValueError\u001b[39;00m(\u001b[39m\"\u001b[39m\u001b[39mError: Failed to parse JSON file!\u001b[39m\u001b[39m\"\u001b[39m)\n",
      "\u001b[0;31mFileNotFoundError\u001b[0m: Error: The file ../../../use_cases/nibelungenbruecke_demonstrator_self_weight_fenicsxconcrete/input/settings/digital_twin_default_parameters.json was not found!"
     ]
    }
   ],
   "source": [
    "dt = DigitalTwinInterface(path)\n"
   ]
  },
  {
   "cell_type": "code",
   "execution_count": null,
   "metadata": {},
   "outputs": [],
   "source": [
    "print(dt)"
   ]
  },
  {
   "cell_type": "code",
   "execution_count": null,
   "metadata": {},
   "outputs": [],
   "source": [
    "dt.run_model()"
   ]
  },
  {
   "cell_type": "markdown",
   "metadata": {},
   "source": []
  }
 ],
 "metadata": {
  "kernelspec": {
   "display_name": "demo",
   "language": "python",
   "name": "python3"
  },
  "language_info": {
   "codemirror_mode": {
    "name": "ipython",
    "version": 3
   },
   "file_extension": ".py",
   "mimetype": "text/x-python",
   "name": "python",
   "nbconvert_exporter": "python",
   "pygments_lexer": "ipython3",
   "version": "3.10.5"
  },
  "orig_nbformat": 4
 },
 "nbformat": 4,
 "nbformat_minor": 2
}
