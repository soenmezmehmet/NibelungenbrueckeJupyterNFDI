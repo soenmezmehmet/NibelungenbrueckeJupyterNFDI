{
 "cells": [
  {
   "cell_type": "markdown",
   "metadata": {},
   "source": [
    "## Online Simulation-Based Digital Twin: Nibelungenbrücke\n",
    "\n",
    "This notebook introduces an online simulation-based digital twin developed for the Nibelungenbrücke bridge. The orchestration system is designed to interact dynamically with the user by gathering key inputs; such as time, physical parameters, and spatial positions to perform real-time simulations of the bridge structure.\n",
    "\n",
    "The simulations are powered by the FenicSXConcrete package and support both thermomechanical and structural deflection analyses. This framework enables physics-based modeling and continuous digital monitoring of the bridge's behavior."
   ]
  },
  {
   "cell_type": "markdown",
   "metadata": {},
   "source": [
    "Note: \n",
    "\n",
    "After confirming that you're operating within the correct Python environment, if the model still raises any library-related errors, activate the following command to ensure that all required packages are properly installed!"
   ]
  },
  {
   "cell_type": "code",
   "execution_count": null,
   "metadata": {},
   "outputs": [],
   "source": [
    "#import sys\n",
    "#!{sys.executable} -m pip install git+https://github.com/BAMresearch/FenicsXConcrete pint gmsh pytest jsonschema pandas pyproj tqdm pvlib\n",
    "\n",
    "from nibelungenbruecke.scripts.digital_twin_orchestrator.interface_test_DT import DigitalTwinInterface"
   ]
  },
  {
   "cell_type": "markdown",
   "metadata": {},
   "source": [
    "DigitalTwinInterface manages model selection, input generation, and execution of the digital twin simulation.\n",
    "## DIGITAL TWIN INTERFACE SHOULD NOT BE HERE, IMPORT IT FROM CODE\n",
    "Focus is on the \"real\" system, no need to generate random inputs or anything. The thermal model works well enough."
   ]
  },
  {
   "cell_type": "markdown",
   "metadata": {},
   "source": [
    "## Launch the Digital Twin Interface\n",
    "\n",
    "The loop below will guide you step by step. You will be prompted to:\n",
    "- Run a simulation by randomizing material parameters.\n",
    "- Switch between available simulation models.\n",
    "- Exit the interface at any time.\n"
   ]
  },
  {
   "cell_type": "code",
   "execution_count": null,
   "metadata": {},
   "outputs": [],
   "source": [
    "# Create the interface and start interaction loop\n",
    "path = 'use_cases/nibelungenbruecke_demonstrator_self_weight_fenicsxconcrete/input/settings/digital_twin_default_parameters.json'\n",
    "path = '../../../use_cases/nibelungenbruecke_demonstrator_self_weight_fenicsxconcrete/input/settings/digital_twin_default_parameters.json'\n",
    "\n",
    "dt = DigitalTwinInterface(path) # This can be substituted with the orchestrator instead, but this is easier for now"
   ]
  },
  {
   "cell_type": "markdown",
   "metadata": {},
   "source": [
    "In case of wanting to use real data from the Nibelungenbrücke monitoring system, provide your key to MKP's API:"
   ]
  },
  {
   "cell_type": "code",
   "execution_count": null,
   "metadata": {},
   "outputs": [],
   "source": [
    "key=\"your_api_key_here\"  # Replace with your actual API key\n",
    "dt.set_api_key(key)"
   ]
  },
  {
   "cell_type": "markdown",
   "metadata": {},
   "source": [
    "### Definition of input parameters\n",
    "\n",
    "Define here the parameters with which you want to generate the simulation. The options are:\n"
   ]
  },
  {
   "cell_type": "code",
   "execution_count": null,
   "metadata": {},
   "outputs": [],
   "source": [
    "simulation_parameters = {\n",
    "    'simulation_name': 'TestSimulation',\n",
    "    'model': 'TransientThermal_1',\n",
    "    'start_time': '2023-01-01T00:00:00',\n",
    "    'end_time': '2023-01-02T00:00:00',\n",
    "    'time_step': '10min',\n",
    "    'virtual_sensor_positions': [\n",
    "        {'x': 0.0, 'y': 0.0, 'z': 0.0, 'name': 'Sensor1'},\n",
    "        {'x': 1.0, 'y': 0.0, 'z': 0.0, 'name': 'Sensor2'}\n",
    "        # Note: the real sensor positions are added automatically by the interface, so you don't need to specify them here.\n",
    "    ],\n",
    "    'full_field_results': False, # Set to True if you want full field results, the simulation will take longer and the results will be larger.\n",
    "    'uncertainty_quantification': False, # Set to True if you want uncertainty quantification, the simulation will take longer and the results will be larger.\n",
    "}"
   ]
  },
  {
   "cell_type": "markdown",
   "metadata": {},
   "source": [
    "Now we run the simulation:"
   ]
  },
  {
   "cell_type": "code",
   "execution_count": null,
   "metadata": {},
   "outputs": [],
   "source": [
    "dt.load(simulation_parameters) # Here we first load and then run, so that we can check the inputs before running the simulation and throw an error if something is wrong.\n",
    "results = dt.run() # The plotting should be separated from the run, so that we can run the simulation without plotting if we want to."
   ]
  },
  {
   "cell_type": "markdown",
   "metadata": {},
   "source": [
    "### Results"
   ]
  },
  {
   "cell_type": "markdown",
   "metadata": {},
   "source": [
    "The result at the chosen sensors are plotted below. The results can be downloaded from the path written below."
   ]
  },
  {
   "cell_type": "code",
   "execution_count": null,
   "metadata": {},
   "outputs": [],
   "source": [
    "# Results is probably just a dictionary of values with the sensor names as keys and the values as lists of results at each time step.\n",
    "# The method should just be going over the keys defined as virtual sensors and plotting the results at those positions\n",
    "# Passing the parameters as a dictionary to the method is also acceptable if needed.\n",
    "# The option \"uncertainty_quantification\" is used to determine if the results should be plotted with uncertainty quantification or not.\n",
    "\n",
    "dt.plot_results_at_virtual_sensors(results, uncertainty_quantification=simulation_parameters['uncertainty_quantification'])\n",
    "# The results file should be saved in an accessible path at the root, with metadata about the simulation and the results.\n",
    "print(\"PATH TO RESULTS:\", dt.get_results_path())"
   ]
  },
  {
   "cell_type": "markdown",
   "metadata": {},
   "source": [
    "We can plot aswell a comparison between model response and real sensors when available:"
   ]
  },
  {
   "cell_type": "code",
   "execution_count": null,
   "metadata": {},
   "outputs": [],
   "source": [
    "dt.plot_results_at_real_sensors(results, uncertainty_quantification=simulation_parameters['uncertainty_quantification'])  # Plot the results, this can be done after the run or separately if needed."
   ]
  },
  {
   "cell_type": "markdown",
   "metadata": {},
   "source": [
    "Execute the digital twin simulation using the loaded model and parameters. This will simulate the bridge behavior based on the selected physics model (e.g., thermal or displacement) and input configuration."
   ]
  },
  {
   "cell_type": "markdown",
   "metadata": {},
   "source": [
    "## Additional results (only if run)"
   ]
  },
  {
   "cell_type": "markdown",
   "metadata": {},
   "source": [
    "### Full-field response"
   ]
  },
  {
   "cell_type": "markdown",
   "metadata": {},
   "source": [
    "Here it is the 3D model full field response. The corresponding files can be downloaded from the given path"
   ]
  },
  {
   "cell_type": "code",
   "execution_count": null,
   "metadata": {},
   "outputs": [],
   "source": [
    "# The 3D model results are generated by activating the \"paraview\" parameter in the simulation parameters, which will save the results as xdmf and h5 files.\n",
    "# The visualization can be done using pyvista, which is a wrapper around VTK that allows for easy 3D visualization in Python.\n",
    "# The results can be visualized using the plot_full_field_response method, which will load the results file and plot the full field response.\n",
    "# If implementing this as a method does not work, we can just use the pyvista library directly to load the results file and plot the full field response.\n",
    "if simulation_parameters['full_field_results']:\n",
    "    print(\"Full field results are enabled, plotting the full field response.\")\n",
    "    dt.plot_full_field_response(results, uncertainty_quantification=simulation_parameters['uncertainty_quantification'])  # Plot the full field response, this should be done using pyvista and the saved results file.\n",
    "    print(\"PATH TO FULL FIELD RESULTS:\", dt.get_full_field_results_path())"
   ]
  }
 ],
 "metadata": {
  "kernelspec": {
   "display_name": "demo",
   "language": "python",
   "name": "python3"
  },
  "language_info": {
   "codemirror_mode": {
    "name": "ipython",
    "version": 3
   },
   "file_extension": ".py",
   "mimetype": "text/x-python",
   "name": "python",
   "nbconvert_exporter": "python",
   "pygments_lexer": "ipython3",
   "version": "3.10.5"
  },
  "orig_nbformat": 4
 },
 "nbformat": 4,
 "nbformat_minor": 2
}
